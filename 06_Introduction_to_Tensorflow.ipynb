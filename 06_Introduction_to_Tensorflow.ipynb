{
 "cells": [
  {
   "cell_type": "markdown",
   "metadata": {},
   "source": [
    "<center><img src='img/ms_logo.jpeg' height=40% width=40%></center>\n",
    "\n",
    "<center><h1>Introduction to Tensorflow</h1></center>\n",
    "\n",
    "In the field of Deep Learning, there are several major frameworks used for building and researching Deep Neural Networks.  Google introduced their framework, Tensorflow, in late 2015.  Since then, it has quickly become one of the most popular choices for Deep Learning. In this tutorial, we'll learn the basics of using Tensorflow, and get a feel for what makes it such a great Deep Learning Framework!\n",
    "\n",
    "<center><img src='https://www.tensorflow.org/_static/images/tensorflow/logo.png'></center>\n",
    "\n",
    "<center><h2>What is Tensorflow?</h2></center>\n",
    "\n",
    "Tensorflow is a library primarily used for creating **Static Computational Graphs**.  In their own words, \"TensorFlow is an open source software library for numerical computation using data flow graphs. Nodes in the graph represent mathematical operations, while the graph edges represent the multidimensional data arrays (tensors) communicated between them.\"\n",
    "\n",
    "In layman's terms, programmers use tensorflow to define a graph of mathematical operations (nodes), with data flowing between them (edges).  Take a look at the following graph to get a better feel for it.  \n",
    "\n",
    "This image is from the tutorial section on [Tensorflow.org](https://www.tensorflow.org).  Let's build this basic graph to get a feel for how Computational Graphs in tensorflow work.\n",
    "\n",
    "<center><img src='https://www.tensorflow.org/images/getting_started_add.png'></center>"
   ]
  },
  {
   "cell_type": "code",
   "execution_count": 1,
   "metadata": {},
   "outputs": [],
   "source": [
    "import tensorflow as tf"
   ]
  },
  {
   "cell_type": "code",
   "execution_count": 2,
   "metadata": {},
   "outputs": [
    {
     "name": "stdout",
     "output_type": "stream",
     "text": [
      "7\n"
     ]
    }
   ],
   "source": [
    "const3 = tf.constant(3)\n",
    "const4 = tf.constant(4)\n",
    "add = tf.add(const3, const4)\n",
    "\n",
    "with tf.Session() as sess:\n",
    "    print(sess.run(add))"
   ]
  },
  {
   "cell_type": "markdown",
   "metadata": {},
   "source": [
    "<center><h2>Static Computational Graphs</h2></center>\n",
    "\n",
    "That's the secret sauce of Tensorflow--creating **Static Computational Graphs**.  These graphs consist of two things: **Nodes**--which consist of mathematical operations, and **Edges**, which is the data that flows between them.  Let's look at the process of building and running a Tensorflow graph:\n",
    "\n",
    "1.  **Declare the nodes of your graph.** . In the above example, we do this on lines 1 - 3.  Note how the `add` node connects the `const3` and `const4` nodes by taking them both as input.  \n",
    "\n",
    "2. **Get the Tensorflow Session object**.  The session object is what actually runs the computations in your graph.  Nothing is actually evaluated until the session object runs it.  \n",
    "\n",
    "3. **Pass nodes into sess.run()**. When you call sess.run() on a node, the Tensorflow session will figure evaluate the node and return the value.  If the session cannot evaluate the node because the nodes that input it have not yet been evaluated, Tensorflow will walk backwards on the graph and evaluate every dependency needed until it has what it needs to evaluate the node passed into sess.run().  \n",
    "\n",
    "Let's look at an example of a more complex computational graph.  In this one, we'll use multiple nodes, as well as placeholders so that we can enter in data (think of placeholders as funnels that allow us to \"pour\" data into our graph).\n",
    "\n",
    "\n",
    " x                 constant( 3)\n",
    "   \\               |\n",
    "    \\              |\n",
    "      matmul  -- Add\n",
    "    /\n",
    " y /"
   ]
  },
  {
   "cell_type": "code",
   "execution_count": 19,
   "metadata": {},
   "outputs": [
    {
     "name": "stdout",
     "output_type": "stream",
     "text": [
      "32\n",
      "35\n"
     ]
    }
   ],
   "source": [
    "x = tf.placeholder(dtype='int32')\n",
    "y = tf.placeholder(dtype='int32')\n",
    "op1 = tf.reduce_sum(tf.multiply(x, y))\n",
    "op2 = tf.add(op1, const3)\n",
    "\n",
    "with tf.Session() as sess:\n",
    "    print(sess.run(op1, feed_dict={x: [1, 2, 3], y: [4, 5, 6]}))\n",
    "    print(sess.run(op2, feed_dict={x: [1, 2, 3], y: [4, 5, 6]}))\n"
   ]
  },
  {
   "cell_type": "code",
   "execution_count": null,
   "metadata": {},
   "outputs": [],
   "source": []
  }
 ],
 "metadata": {
  "anaconda-cloud": {},
  "kernelspec": {
   "display_name": "Python 3",
   "language": "python",
   "name": "python3"
  },
  "language_info": {
   "codemirror_mode": {
    "name": "ipython",
    "version": 3
   },
   "file_extension": ".py",
   "mimetype": "text/x-python",
   "name": "python",
   "nbconvert_exporter": "python",
   "pygments_lexer": "ipython3",
   "version": "3.6.4"
  }
 },
 "nbformat": 4,
 "nbformat_minor": 2
}
